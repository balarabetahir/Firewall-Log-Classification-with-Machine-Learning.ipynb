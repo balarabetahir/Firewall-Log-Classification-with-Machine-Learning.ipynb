{
 "cells": [
  {
   "cell_type": "markdown",
   "id": "fd0ad314-e801-4de3-8bd7-3683f7b28d9c",
   "metadata": {},
   "source": [
    "**The purpose of this lab is to build the best classifier in the security area based on Internet Firewall DataSet with the helping frameworks & libraries.**\n",
    "\n",
    "After completing this lab you will\n",
    "\n",
    "Be able to explore the Internet Firewall DataSet and build the best classifier via selecting from a set of existed classifiers.\n",
    "Be able to show different calculated metrics of existed classifiers.\n",
    "Be able to visualize the data analysis results with various plot types."
   ]
  },
  {
   "cell_type": "markdown",
   "id": "32f80f69-9ebd-435a-91a2-ef0df6224953",
   "metadata": {},
   "source": [
    "The data that we are going to use for this is a subset of an open source default of Internet Firewall DataSet from the UCI ML repository: https://archive.ics.uci.edu/ml/citation_policy.html.\n",
    "\n",
    "This dataset is public available for research. The details are described in [Fatih Ertam, fatih.ertam '@' firat.edu.tr, Firat University, Turkey].\n",
    "\n",
    "**Please include this citation if you plan to use this database: F. Ertam and M. Kaya, Classification of firewall log files with multiclass support vector machine, in 6th International Symposium on Digital Forensic and Security, ISDFS 2018 - Proceeding, 2018.**\n",
    "\n",
    "During the work, you will know about the classification task is the main machine learning task solved by an algorithm correlating some input data with one or more classes, which must be defined earlier. In essence, classification can be used as a tool for many other tasks, such as automatic language detection, 3D-reconstruction, etc.\n",
    "\n",
    "Moreover, you will be provided 11 well-known classifiers. You should select a better classifier among them. Some of them need enough more time for learning by .fit method, so you can select not all classifiers, but, for instance, 5 or 6 will be enough.\n",
    "\n",
    "Classification refers to a supervised learning strategy, also called supervised or guided learning.\n",
    "\n",
    "A classification task is often referred to as predicting a categorical dependent variable (i.e. a dependent variable that is a category) based on a sample of continuous and / or categorical variables.\n",
    "\n",
    "In addition, we will build the visualization of our results, exactly the obtained metrics (accuracy and loss) to choose a better classifier."
   ]
  },
  {
   "cell_type": "markdown",
   "id": "b3fb36ec-23b4-47d1-99c1-ef338f67a0d6",
   "metadata": {},
   "source": [
    "**Import required libraries and dataset**"
   ]
  },
  {
   "cell_type": "markdown",
   "id": "b2ce018e-a22a-49d1-b9ea-b8cd5140c059",
   "metadata": {},
   "source": [
    "**Download data using a URL and rename it.**"
   ]
  },
  {
   "cell_type": "code",
   "execution_count": 25,
   "id": "0695eed2-65fc-43ce-bbe6-b37c9d8ead65",
   "metadata": {},
   "outputs": [],
   "source": [
    "import requests\n",
    "\n",
    "url = \"https://archive.ics.uci.edu/ml/machine-learning-databases/00542/log2.csv\"\n",
    "response = requests.get(url)\n",
    "\n",
    "with open(\"log2.csv\", \"wb\") as file:\n",
    "    file.write(response.content)\n",
    "\n"
   ]
  },
  {
   "cell_type": "code",
   "execution_count": 1,
   "id": "7e1bb964-5ffe-4bcb-8bd2-40ae8391cf85",
   "metadata": {},
   "outputs": [],
   "source": [
    "import pandas as pd\n",
    "import os\n",
    "import matplotlib.pyplot as plt\n",
    "import numpy as np\n",
    "import seaborn as sns\n",
    "import scikitplot as sk\n",
    "from collections import Counter\n",
    "from sklearn.model_selection import StratifiedKFold\n",
    "from sklearn import *\n",
    "import time\n",
    "\n",
    "%matplotlib inline\n",
    "sns.set(style = \"darkgrid\")\n",
    "plt.rcParams['figure.figsize'] = (15, 5)\n",
    "plt.style.use('ggplot')\n",
    "seed = 42\n",
    "\n",
    "import warnings\n",
    "warnings.filterwarnings(action = \"ignore\", category = FutureWarning)"
   ]
  },
  {
   "cell_type": "markdown",
   "id": "5aea3a54-4f3f-408c-b931-f515a817fdb9",
   "metadata": {},
   "source": [
    "As well as specify the value of the precision parameter equal to 3 to display three decimal signs (instead 6 as default)."
   ]
  },
  {
   "cell_type": "markdown",
   "id": "664653f8-61d7-41ac-9b4a-6a680a176cd5",
   "metadata": {},
   "source": [
    "**Explore the Dataset**"
   ]
  },
  {
   "cell_type": "markdown",
   "id": "ee9a8f07-50e6-417e-a441-4097ab8a4a63",
   "metadata": {},
   "source": [
    "In this section you will explore the sourse dataset.\n",
    "\n",
    "Let's read the data and look at the first 5 rows using the head method. The count of the output rows from the dataset is determined by the head method parameter."
   ]
  },
  {
   "cell_type": "code",
   "execution_count": 2,
   "id": "2f486169-f5af-49d0-bf1c-7c756dad09c3",
   "metadata": {},
   "outputs": [
    {
     "name": "stdout",
     "output_type": "stream",
     "text": [
      "      A     B\n",
      "0 1.123 3.142\n",
      "1 2.346 4.988\n"
     ]
    }
   ],
   "source": [
    "\n",
    "\n",
    "import pandas as pd\n",
    "\n",
    "# Set float formatting globally\n",
    "pd.options.display.float_format = '{:.3f}'.format\n",
    "\n",
    "# Example DataFrame\n",
    "df = pd.DataFrame({'A': [1.12345, 2.34567], 'B': [3.14159, 4.98765]})\n",
    "\n",
    "print(df)\n"
   ]
  },
  {
   "cell_type": "code",
   "execution_count": 27,
   "id": "e12da6b1-fa9e-4e4a-ab71-79e01c3de1e3",
   "metadata": {},
   "outputs": [
    {
     "data": {
      "text/html": [
       "<div>\n",
       "<style scoped>\n",
       "    .dataframe tbody tr th:only-of-type {\n",
       "        vertical-align: middle;\n",
       "    }\n",
       "\n",
       "    .dataframe tbody tr th {\n",
       "        vertical-align: top;\n",
       "    }\n",
       "\n",
       "    .dataframe thead th {\n",
       "        text-align: right;\n",
       "    }\n",
       "</style>\n",
       "<table border=\"1\" class=\"dataframe\">\n",
       "  <thead>\n",
       "    <tr style=\"text-align: right;\">\n",
       "      <th></th>\n",
       "      <th>Source Port</th>\n",
       "      <th>Destination Port</th>\n",
       "      <th>NAT Source Port</th>\n",
       "      <th>NAT Destination Port</th>\n",
       "      <th>Action</th>\n",
       "      <th>Bytes</th>\n",
       "      <th>Bytes Sent</th>\n",
       "      <th>Bytes Received</th>\n",
       "      <th>Packets</th>\n",
       "      <th>Elapsed Time (sec)</th>\n",
       "      <th>pkts_sent</th>\n",
       "      <th>pkts_received</th>\n",
       "    </tr>\n",
       "  </thead>\n",
       "  <tbody>\n",
       "    <tr>\n",
       "      <th>0</th>\n",
       "      <td>57222</td>\n",
       "      <td>53</td>\n",
       "      <td>54587</td>\n",
       "      <td>53</td>\n",
       "      <td>allow</td>\n",
       "      <td>177</td>\n",
       "      <td>94</td>\n",
       "      <td>83</td>\n",
       "      <td>2</td>\n",
       "      <td>30</td>\n",
       "      <td>1</td>\n",
       "      <td>1</td>\n",
       "    </tr>\n",
       "    <tr>\n",
       "      <th>1</th>\n",
       "      <td>56258</td>\n",
       "      <td>3389</td>\n",
       "      <td>56258</td>\n",
       "      <td>3389</td>\n",
       "      <td>allow</td>\n",
       "      <td>4768</td>\n",
       "      <td>1600</td>\n",
       "      <td>3168</td>\n",
       "      <td>19</td>\n",
       "      <td>17</td>\n",
       "      <td>10</td>\n",
       "      <td>9</td>\n",
       "    </tr>\n",
       "    <tr>\n",
       "      <th>2</th>\n",
       "      <td>6881</td>\n",
       "      <td>50321</td>\n",
       "      <td>43265</td>\n",
       "      <td>50321</td>\n",
       "      <td>allow</td>\n",
       "      <td>238</td>\n",
       "      <td>118</td>\n",
       "      <td>120</td>\n",
       "      <td>2</td>\n",
       "      <td>1199</td>\n",
       "      <td>1</td>\n",
       "      <td>1</td>\n",
       "    </tr>\n",
       "    <tr>\n",
       "      <th>3</th>\n",
       "      <td>50553</td>\n",
       "      <td>3389</td>\n",
       "      <td>50553</td>\n",
       "      <td>3389</td>\n",
       "      <td>allow</td>\n",
       "      <td>3327</td>\n",
       "      <td>1438</td>\n",
       "      <td>1889</td>\n",
       "      <td>15</td>\n",
       "      <td>17</td>\n",
       "      <td>8</td>\n",
       "      <td>7</td>\n",
       "    </tr>\n",
       "    <tr>\n",
       "      <th>4</th>\n",
       "      <td>50002</td>\n",
       "      <td>443</td>\n",
       "      <td>45848</td>\n",
       "      <td>443</td>\n",
       "      <td>allow</td>\n",
       "      <td>25358</td>\n",
       "      <td>6778</td>\n",
       "      <td>18580</td>\n",
       "      <td>31</td>\n",
       "      <td>16</td>\n",
       "      <td>13</td>\n",
       "      <td>18</td>\n",
       "    </tr>\n",
       "  </tbody>\n",
       "</table>\n",
       "</div>"
      ],
      "text/plain": [
       "   Source Port  Destination Port  NAT Source Port  NAT Destination Port  \\\n",
       "0        57222                53            54587                    53   \n",
       "1        56258              3389            56258                  3389   \n",
       "2         6881             50321            43265                 50321   \n",
       "3        50553              3389            50553                  3389   \n",
       "4        50002               443            45848                   443   \n",
       "\n",
       "  Action  Bytes  Bytes Sent  Bytes Received  Packets  Elapsed Time (sec)  \\\n",
       "0  allow    177          94              83        2                  30   \n",
       "1  allow   4768        1600            3168       19                  17   \n",
       "2  allow    238         118             120        2                1199   \n",
       "3  allow   3327        1438            1889       15                  17   \n",
       "4  allow  25358        6778           18580       31                  16   \n",
       "\n",
       "   pkts_sent  pkts_received  \n",
       "0          1              1  \n",
       "1         10              9  \n",
       "2          1              1  \n",
       "3          8              7  \n",
       "4         13             18  "
      ]
     },
     "execution_count": 27,
     "metadata": {},
     "output_type": "execute_result"
    }
   ],
   "source": [
    "df = pd.read_csv('log2.csv', header = 0)\n",
    "df.head(5)"
   ]
  },
  {
   "cell_type": "markdown",
   "id": "8f8119a7-9afa-4a19-870c-fffff09e8037",
   "metadata": {},
   "source": [
    "**Let's look at the dataset size, feature names and their types**"
   ]
  },
  {
   "cell_type": "code",
   "execution_count": 28,
   "id": "3fea3fab-63a6-4eff-9c49-358ad8a58c2a",
   "metadata": {},
   "outputs": [
    {
     "data": {
      "text/plain": [
       "(65532, 12)"
      ]
     },
     "execution_count": 28,
     "metadata": {},
     "output_type": "execute_result"
    }
   ],
   "source": [
    "df.shape"
   ]
  },
  {
   "cell_type": "markdown",
   "id": "a7700cc2-8b60-47ab-baae-be6607c4dab2",
   "metadata": {},
   "source": [
    "The dataset contains `65 532` objects (rows), for each of which `12` features are set (columns), including 1 target feature (`Action`)."
   ]
  },
  {
   "cell_type": "code",
   "execution_count": 29,
   "id": "bd754cc0-bfe0-4533-b060-b87f593904b7",
   "metadata": {},
   "outputs": [
    {
     "data": {
      "text/plain": [
       "Index(['Source Port', 'Destination Port', 'NAT Source Port',\n",
       "       'NAT Destination Port', 'Action', 'Bytes', 'Bytes Sent',\n",
       "       'Bytes Received', 'Packets', 'Elapsed Time (sec)', 'pkts_sent',\n",
       "       'pkts_received'],\n",
       "      dtype='object')"
      ]
     },
     "execution_count": 29,
     "metadata": {},
     "output_type": "execute_result"
    }
   ],
   "source": [
    "df.columns"
   ]
  },
  {
   "cell_type": "markdown",
   "id": "acabe6e0-f3db-43e5-b9c7-4c1ae671147f",
   "metadata": {},
   "source": [
    "Input features (column names):\n",
    "\n",
    "Source Port - a port, from which data transfer has been carried out\n",
    "\n",
    "Destination Port - a port, to which data transfer has been carried out\n",
    "\n",
    "NAT Source Port - a port, which needs to track for outgoing traffic from NAT (Network Address Translation) side to retransfer transit packets\n",
    "\n",
    "NAT Destination Port - a port, which needs to track for incoming traffic from NAT (Network Address Translation) side to retransfer transit packets\n",
    "\n",
    "Action - a feature (desired target), which is used as a class, 4 classes in total (allow, deny, drop, and reset-both)\n",
    "\n",
    "Bytes - bytes total, is equal to the sum of the next two columns\n",
    "\n",
    "Bytes Sent - the amount of data sent in bytes\n",
    "\n",
    "Bytes Received - the amount of data received in bytes\n",
    "\n",
    "Packets – packets total, is equal to the sum of the last two columns\n",
    "\n",
    "Elapsed Time (sec) - time taken to transfer data in seconds\n",
    "\n",
    "pkts_sent - the amount of data sent in packets\n",
    "\n",
    "pkts_received - the amount of data received in packets\n",
    "\n",
    "To see general information on the all dataframe features (columns), we use the info method:"
   ]
  },
  {
   "cell_type": "code",
   "execution_count": 35,
   "id": "b0bbaa3c-45bd-40ca-93e0-a1097568fe89",
   "metadata": {},
   "outputs": [
    {
     "name": "stdout",
     "output_type": "stream",
     "text": [
      "<class 'pandas.core.frame.DataFrame'>\n",
      "RangeIndex: 65532 entries, 0 to 65531\n",
      "Data columns (total 12 columns):\n",
      " #   Column                Non-Null Count  Dtype \n",
      "---  ------                --------------  ----- \n",
      " 0   Source Port           65532 non-null  int64 \n",
      " 1   Destination Port      65532 non-null  int64 \n",
      " 2   NAT Source Port       65532 non-null  int64 \n",
      " 3   NAT Destination Port  65532 non-null  int64 \n",
      " 4   Action                65532 non-null  object\n",
      " 5   Bytes                 65532 non-null  int64 \n",
      " 6   Bytes Sent            65532 non-null  int64 \n",
      " 7   Bytes Received        65532 non-null  int64 \n",
      " 8   Packets               65532 non-null  int64 \n",
      " 9   Elapsed Time (sec)    65532 non-null  int64 \n",
      " 10  pkts_sent             65532 non-null  int64 \n",
      " 11  pkts_received         65532 non-null  int64 \n",
      "dtypes: int64(11), object(1)\n",
      "memory usage: 6.0+ MB\n"
     ]
    }
   ],
   "source": [
    "df.info()"
   ]
  },
  {
   "cell_type": "code",
   "execution_count": 36,
   "id": "4bd9943c-6933-43a5-844f-2f310ca1e875",
   "metadata": {},
   "outputs": [
    {
     "data": {
      "text/html": [
       "<div>\n",
       "<style scoped>\n",
       "    .dataframe tbody tr th:only-of-type {\n",
       "        vertical-align: middle;\n",
       "    }\n",
       "\n",
       "    .dataframe tbody tr th {\n",
       "        vertical-align: top;\n",
       "    }\n",
       "\n",
       "    .dataframe thead th {\n",
       "        text-align: right;\n",
       "    }\n",
       "</style>\n",
       "<table border=\"1\" class=\"dataframe\">\n",
       "  <thead>\n",
       "    <tr style=\"text-align: right;\">\n",
       "      <th></th>\n",
       "      <th>count</th>\n",
       "      <th>mean</th>\n",
       "      <th>std</th>\n",
       "      <th>min</th>\n",
       "      <th>25%</th>\n",
       "      <th>50%</th>\n",
       "      <th>75%</th>\n",
       "      <th>max</th>\n",
       "    </tr>\n",
       "  </thead>\n",
       "  <tbody>\n",
       "    <tr>\n",
       "      <th>Source Port</th>\n",
       "      <td>65532.0</td>\n",
       "      <td>49391.969343</td>\n",
       "      <td>1.525571e+04</td>\n",
       "      <td>0.0</td>\n",
       "      <td>49183.0</td>\n",
       "      <td>53776.5</td>\n",
       "      <td>58638.00</td>\n",
       "      <td>6.553400e+04</td>\n",
       "    </tr>\n",
       "    <tr>\n",
       "      <th>Destination Port</th>\n",
       "      <td>65532.0</td>\n",
       "      <td>10577.385812</td>\n",
       "      <td>1.846603e+04</td>\n",
       "      <td>0.0</td>\n",
       "      <td>80.0</td>\n",
       "      <td>445.0</td>\n",
       "      <td>15000.00</td>\n",
       "      <td>6.553500e+04</td>\n",
       "    </tr>\n",
       "    <tr>\n",
       "      <th>NAT Source Port</th>\n",
       "      <td>65532.0</td>\n",
       "      <td>19282.972761</td>\n",
       "      <td>2.197069e+04</td>\n",
       "      <td>0.0</td>\n",
       "      <td>0.0</td>\n",
       "      <td>8820.5</td>\n",
       "      <td>38366.25</td>\n",
       "      <td>6.553500e+04</td>\n",
       "    </tr>\n",
       "    <tr>\n",
       "      <th>NAT Destination Port</th>\n",
       "      <td>65532.0</td>\n",
       "      <td>2671.049930</td>\n",
       "      <td>9.739162e+03</td>\n",
       "      <td>0.0</td>\n",
       "      <td>0.0</td>\n",
       "      <td>53.0</td>\n",
       "      <td>443.00</td>\n",
       "      <td>6.553500e+04</td>\n",
       "    </tr>\n",
       "    <tr>\n",
       "      <th>Bytes</th>\n",
       "      <td>65532.0</td>\n",
       "      <td>97123.950085</td>\n",
       "      <td>5.618439e+06</td>\n",
       "      <td>60.0</td>\n",
       "      <td>66.0</td>\n",
       "      <td>168.0</td>\n",
       "      <td>752.25</td>\n",
       "      <td>1.269359e+09</td>\n",
       "    </tr>\n",
       "    <tr>\n",
       "      <th>Bytes Sent</th>\n",
       "      <td>65532.0</td>\n",
       "      <td>22385.796908</td>\n",
       "      <td>3.828139e+06</td>\n",
       "      <td>60.0</td>\n",
       "      <td>66.0</td>\n",
       "      <td>90.0</td>\n",
       "      <td>210.00</td>\n",
       "      <td>9.484772e+08</td>\n",
       "    </tr>\n",
       "    <tr>\n",
       "      <th>Bytes Received</th>\n",
       "      <td>65532.0</td>\n",
       "      <td>74738.153177</td>\n",
       "      <td>2.463208e+06</td>\n",
       "      <td>0.0</td>\n",
       "      <td>0.0</td>\n",
       "      <td>79.0</td>\n",
       "      <td>449.00</td>\n",
       "      <td>3.208818e+08</td>\n",
       "    </tr>\n",
       "    <tr>\n",
       "      <th>Packets</th>\n",
       "      <td>65532.0</td>\n",
       "      <td>102.866035</td>\n",
       "      <td>5.133002e+03</td>\n",
       "      <td>1.0</td>\n",
       "      <td>1.0</td>\n",
       "      <td>2.0</td>\n",
       "      <td>6.00</td>\n",
       "      <td>1.036116e+06</td>\n",
       "    </tr>\n",
       "    <tr>\n",
       "      <th>Elapsed Time (sec)</th>\n",
       "      <td>65532.0</td>\n",
       "      <td>65.833577</td>\n",
       "      <td>3.024618e+02</td>\n",
       "      <td>0.0</td>\n",
       "      <td>0.0</td>\n",
       "      <td>15.0</td>\n",
       "      <td>30.00</td>\n",
       "      <td>1.082400e+04</td>\n",
       "    </tr>\n",
       "    <tr>\n",
       "      <th>pkts_sent</th>\n",
       "      <td>65532.0</td>\n",
       "      <td>41.399530</td>\n",
       "      <td>3.218871e+03</td>\n",
       "      <td>1.0</td>\n",
       "      <td>1.0</td>\n",
       "      <td>1.0</td>\n",
       "      <td>3.00</td>\n",
       "      <td>7.475200e+05</td>\n",
       "    </tr>\n",
       "    <tr>\n",
       "      <th>pkts_received</th>\n",
       "      <td>65532.0</td>\n",
       "      <td>61.466505</td>\n",
       "      <td>2.223332e+03</td>\n",
       "      <td>0.0</td>\n",
       "      <td>0.0</td>\n",
       "      <td>1.0</td>\n",
       "      <td>2.00</td>\n",
       "      <td>3.272080e+05</td>\n",
       "    </tr>\n",
       "  </tbody>\n",
       "</table>\n",
       "</div>"
      ],
      "text/plain": [
       "                        count          mean           std   min      25%  \\\n",
       "Source Port           65532.0  49391.969343  1.525571e+04   0.0  49183.0   \n",
       "Destination Port      65532.0  10577.385812  1.846603e+04   0.0     80.0   \n",
       "NAT Source Port       65532.0  19282.972761  2.197069e+04   0.0      0.0   \n",
       "NAT Destination Port  65532.0   2671.049930  9.739162e+03   0.0      0.0   \n",
       "Bytes                 65532.0  97123.950085  5.618439e+06  60.0     66.0   \n",
       "Bytes Sent            65532.0  22385.796908  3.828139e+06  60.0     66.0   \n",
       "Bytes Received        65532.0  74738.153177  2.463208e+06   0.0      0.0   \n",
       "Packets               65532.0    102.866035  5.133002e+03   1.0      1.0   \n",
       "Elapsed Time (sec)    65532.0     65.833577  3.024618e+02   0.0      0.0   \n",
       "pkts_sent             65532.0     41.399530  3.218871e+03   1.0      1.0   \n",
       "pkts_received         65532.0     61.466505  2.223332e+03   0.0      0.0   \n",
       "\n",
       "                          50%       75%           max  \n",
       "Source Port           53776.5  58638.00  6.553400e+04  \n",
       "Destination Port        445.0  15000.00  6.553500e+04  \n",
       "NAT Source Port        8820.5  38366.25  6.553500e+04  \n",
       "NAT Destination Port     53.0    443.00  6.553500e+04  \n",
       "Bytes                   168.0    752.25  1.269359e+09  \n",
       "Bytes Sent               90.0    210.00  9.484772e+08  \n",
       "Bytes Received           79.0    449.00  3.208818e+08  \n",
       "Packets                   2.0      6.00  1.036116e+06  \n",
       "Elapsed Time (sec)       15.0     30.00  1.082400e+04  \n",
       "pkts_sent                 1.0      3.00  7.475200e+05  \n",
       "pkts_received             1.0      2.00  3.272080e+05  "
      ]
     },
     "execution_count": 36,
     "metadata": {},
     "output_type": "execute_result"
    }
   ],
   "source": [
    "df.describe().T"
   ]
  },
  {
   "cell_type": "code",
   "execution_count": 37,
   "id": "71fc325b-b245-4b81-ba6a-a006fe549a44",
   "metadata": {},
   "outputs": [
    {
     "data": {
      "text/plain": [
       "[array(['allow', 'drop', 'deny', 'reset-both'], dtype=object)]"
      ]
     },
     "execution_count": 37,
     "metadata": {},
     "output_type": "execute_result"
    }
   ],
   "source": [
    "[df[i].unique() for i in df if df[i].dtypes == \"object\"]"
   ]
  },
  {
   "cell_type": "code",
   "execution_count": 38,
   "id": "66c7edc7-e2db-4ac3-9580-66030f25bb26",
   "metadata": {},
   "outputs": [
    {
     "data": {
      "text/html": [
       "<div>\n",
       "<style scoped>\n",
       "    .dataframe tbody tr th:only-of-type {\n",
       "        vertical-align: middle;\n",
       "    }\n",
       "\n",
       "    .dataframe tbody tr th {\n",
       "        vertical-align: top;\n",
       "    }\n",
       "\n",
       "    .dataframe thead th {\n",
       "        text-align: right;\n",
       "    }\n",
       "</style>\n",
       "<table border=\"1\" class=\"dataframe\">\n",
       "  <thead>\n",
       "    <tr style=\"text-align: right;\">\n",
       "      <th></th>\n",
       "      <th>source_port</th>\n",
       "      <th>destination_port</th>\n",
       "      <th>nat_source_port</th>\n",
       "      <th>nat_destination_port</th>\n",
       "      <th>action</th>\n",
       "      <th>bytes</th>\n",
       "      <th>bytes_sent</th>\n",
       "      <th>bytes_received</th>\n",
       "      <th>packets</th>\n",
       "      <th>elapsed_time_(sec)</th>\n",
       "      <th>pkts_sent</th>\n",
       "      <th>pkts_received</th>\n",
       "    </tr>\n",
       "  </thead>\n",
       "  <tbody>\n",
       "    <tr>\n",
       "      <th>0</th>\n",
       "      <td>57222</td>\n",
       "      <td>53</td>\n",
       "      <td>54587</td>\n",
       "      <td>53</td>\n",
       "      <td>allow</td>\n",
       "      <td>177</td>\n",
       "      <td>94</td>\n",
       "      <td>83</td>\n",
       "      <td>2</td>\n",
       "      <td>30</td>\n",
       "      <td>1</td>\n",
       "      <td>1</td>\n",
       "    </tr>\n",
       "    <tr>\n",
       "      <th>1</th>\n",
       "      <td>56258</td>\n",
       "      <td>3389</td>\n",
       "      <td>56258</td>\n",
       "      <td>3389</td>\n",
       "      <td>allow</td>\n",
       "      <td>4768</td>\n",
       "      <td>1600</td>\n",
       "      <td>3168</td>\n",
       "      <td>19</td>\n",
       "      <td>17</td>\n",
       "      <td>10</td>\n",
       "      <td>9</td>\n",
       "    </tr>\n",
       "    <tr>\n",
       "      <th>2</th>\n",
       "      <td>6881</td>\n",
       "      <td>50321</td>\n",
       "      <td>43265</td>\n",
       "      <td>50321</td>\n",
       "      <td>allow</td>\n",
       "      <td>238</td>\n",
       "      <td>118</td>\n",
       "      <td>120</td>\n",
       "      <td>2</td>\n",
       "      <td>1199</td>\n",
       "      <td>1</td>\n",
       "      <td>1</td>\n",
       "    </tr>\n",
       "    <tr>\n",
       "      <th>3</th>\n",
       "      <td>50553</td>\n",
       "      <td>3389</td>\n",
       "      <td>50553</td>\n",
       "      <td>3389</td>\n",
       "      <td>allow</td>\n",
       "      <td>3327</td>\n",
       "      <td>1438</td>\n",
       "      <td>1889</td>\n",
       "      <td>15</td>\n",
       "      <td>17</td>\n",
       "      <td>8</td>\n",
       "      <td>7</td>\n",
       "    </tr>\n",
       "    <tr>\n",
       "      <th>4</th>\n",
       "      <td>50002</td>\n",
       "      <td>443</td>\n",
       "      <td>45848</td>\n",
       "      <td>443</td>\n",
       "      <td>allow</td>\n",
       "      <td>25358</td>\n",
       "      <td>6778</td>\n",
       "      <td>18580</td>\n",
       "      <td>31</td>\n",
       "      <td>16</td>\n",
       "      <td>13</td>\n",
       "      <td>18</td>\n",
       "    </tr>\n",
       "    <tr>\n",
       "      <th>5</th>\n",
       "      <td>51465</td>\n",
       "      <td>443</td>\n",
       "      <td>39975</td>\n",
       "      <td>443</td>\n",
       "      <td>allow</td>\n",
       "      <td>3961</td>\n",
       "      <td>1595</td>\n",
       "      <td>2366</td>\n",
       "      <td>21</td>\n",
       "      <td>16</td>\n",
       "      <td>12</td>\n",
       "      <td>9</td>\n",
       "    </tr>\n",
       "    <tr>\n",
       "      <th>6</th>\n",
       "      <td>60513</td>\n",
       "      <td>47094</td>\n",
       "      <td>45469</td>\n",
       "      <td>47094</td>\n",
       "      <td>allow</td>\n",
       "      <td>320</td>\n",
       "      <td>140</td>\n",
       "      <td>180</td>\n",
       "      <td>6</td>\n",
       "      <td>7</td>\n",
       "      <td>3</td>\n",
       "      <td>3</td>\n",
       "    </tr>\n",
       "  </tbody>\n",
       "</table>\n",
       "</div>"
      ],
      "text/plain": [
       "   source_port  destination_port  nat_source_port  nat_destination_port  \\\n",
       "0        57222                53            54587                    53   \n",
       "1        56258              3389            56258                  3389   \n",
       "2         6881             50321            43265                 50321   \n",
       "3        50553              3389            50553                  3389   \n",
       "4        50002               443            45848                   443   \n",
       "5        51465               443            39975                   443   \n",
       "6        60513             47094            45469                 47094   \n",
       "\n",
       "  action  bytes  bytes_sent  bytes_received  packets  elapsed_time_(sec)  \\\n",
       "0  allow    177          94              83        2                  30   \n",
       "1  allow   4768        1600            3168       19                  17   \n",
       "2  allow    238         118             120        2                1199   \n",
       "3  allow   3327        1438            1889       15                  17   \n",
       "4  allow  25358        6778           18580       31                  16   \n",
       "5  allow   3961        1595            2366       21                  16   \n",
       "6  allow    320         140             180        6                   7   \n",
       "\n",
       "   pkts_sent  pkts_received  \n",
       "0          1              1  \n",
       "1         10              9  \n",
       "2          1              1  \n",
       "3          8              7  \n",
       "4         13             18  \n",
       "5         12              9  \n",
       "6          3              3  "
      ]
     },
     "execution_count": 38,
     "metadata": {},
     "output_type": "execute_result"
    }
   ],
   "source": [
    "df.columns = df.columns.str.lower().str.replace(\" \",\"_\")\n",
    "df.head(7)"
   ]
  },
  {
   "cell_type": "code",
   "execution_count": 39,
   "id": "e5c89af1-a187-4216-9f95-debf8657ea93",
   "metadata": {},
   "outputs": [
    {
     "data": {
      "text/plain": [
       "Counter({'allow': 37640, 'deny': 14987, 'drop': 12851, 'reset-both': 54})"
      ]
     },
     "execution_count": 39,
     "metadata": {},
     "output_type": "execute_result"
    }
   ],
   "source": [
    "Counter(df.action)"
   ]
  },
  {
   "cell_type": "code",
   "execution_count": 44,
   "id": "8d075a81-36d3-45f4-b9a1-7f18085a4a37",
   "metadata": {},
   "outputs": [],
   "source": [
    "from sklearn import preprocessing\n",
    "from imblearn.over_sampling import SMOTE\n",
    "\n",
    "# Encode the target feature\n",
    "lab = preprocessing.LabelEncoder()\n",
    "df['action'] = lab.fit_transform(df['action'])\n",
    "\n",
    "# Create a new dataframe without the target feature\n",
    "data_out = df.drop(\"action\", axis=1)\n",
    "\n",
    "# Define quantiles, interquartile range, and outlier step using Tukey's method\n",
    "quant_1 = data_out.quantile(0.25)\n",
    "quant_3 = data_out.quantile(0.75)\n",
    "diff = quant_3 - quant_1\n",
    "\n",
    "# Compute bounds for each column\n",
    "lower_bound = quant_1 - 1.5 * diff\n",
    "upper_bound = quant_3 + 1.5 * diff\n",
    "\n",
    "# Filter out outliers\n",
    "data = df[~((data_out < lower_bound) | (data_out > upper_bound)).any(axis=1)]\n"
   ]
  },
  {
   "cell_type": "code",
   "execution_count": 48,
   "id": "b6e999f6-4182-4df5-8f5f-386a9edf94db",
   "metadata": {},
   "outputs": [
    {
     "data": {
      "text/plain": [
       "((34531, 12), Counter({0: 16649, 2: 12851, 1: 5020, 3: 11}))"
      ]
     },
     "execution_count": 48,
     "metadata": {},
     "output_type": "execute_result"
    }
   ],
   "source": [
    "data.shape, Counter(data.action)"
   ]
  },
  {
   "cell_type": "code",
   "execution_count": 53,
   "id": "f50cd575-73ef-4e31-ab5d-6df3057303a0",
   "metadata": {},
   "outputs": [],
   "source": [
    "fig = sns.countplot(data.action)\n",
    "for p in fig.patches:\n",
    "    fig.annotate(format(p.get_height(), '.0f'), \n",
    "                   (p.get_x() + p.get_width() / 2., p.get_height()), \n",
    "                   ha = 'center', va = 'center', \n",
    "                   xytext = (0, 9), size = 12,\n",
    "                   textcoords = 'offset points')"
   ]
  },
  {
   "cell_type": "code",
   "execution_count": 54,
   "id": "cc0a2672-06b5-4485-afb7-c4e328cb30b9",
   "metadata": {},
   "outputs": [],
   "source": [
    "feature, target = data.drop(\"action\", axis = 1).values, data[\"action\"].values\n",
    "sm = SMOTE(random_state = seed)\n",
    "feature, target = sm.fit_resample(feature, target)"
   ]
  },
  {
   "cell_type": "code",
   "execution_count": 55,
   "id": "166dcfdd-d09f-430b-8351-78d49d467446",
   "metadata": {},
   "outputs": [
    {
     "data": {
      "text/plain": [
       "Counter({0: 16649, 2: 16649, 1: 16649, 3: 16649})"
      ]
     },
     "execution_count": 55,
     "metadata": {},
     "output_type": "execute_result"
    }
   ],
   "source": [
    "Counter(target)"
   ]
  },
  {
   "cell_type": "code",
   "execution_count": 56,
   "id": "5a6c2e7e-78a1-4344-9203-1534467b2ba1",
   "metadata": {},
   "outputs": [],
   "source": [
    "xtrain, xtest, ytrain, ytest = model_selection.train_test_split(feature, target,\n",
    "                                                                test_size = 0.3,\n",
    "                                                                random_state = seed,\n",
    "                                                                stratify = target,\n",
    "                                                                shuffle = True)"
   ]
  },
  {
   "cell_type": "code",
   "execution_count": 57,
   "id": "b6f59a7a-c60e-40c7-b06b-f0a2826839b6",
   "metadata": {},
   "outputs": [
    {
     "data": {
      "text/plain": [
       "((46617, 11), (19979, 11), (46617,), (19979,))"
      ]
     },
     "execution_count": 57,
     "metadata": {},
     "output_type": "execute_result"
    }
   ],
   "source": [
    "xtrain.shape, xtest.shape, ytrain.shape, ytest.shape"
   ]
  },
  {
   "cell_type": "code",
   "execution_count": 58,
   "id": "10db4da0-9730-4931-a752-82738c77658a",
   "metadata": {},
   "outputs": [],
   "source": [
    "xtrain = preprocessing.StandardScaler().fit_transform(xtrain)\n",
    "xtest = preprocessing.StandardScaler().fit_transform(xtest)\n"
   ]
  },
  {
   "cell_type": "markdown",
   "id": "66725eb9-e906-4746-ab64-34bfe0f5f20c",
   "metadata": {},
   "source": [
    "**Form a set of classifiers and fit them**"
   ]
  },
  {
   "cell_type": "markdown",
   "id": "95178651-4f9b-4bcd-89ac-98260a26e3b5",
   "metadata": {},
   "source": [
    "Will describe 11 well-known classifiers with some minimal parameters. Some of them are commented out, so you should uncomment by rows only those, which you want to study. Thus, you can select not all classifiers, but, for instance, 5 or 6 will be enough.\n",
    "\n",
    "Besides, the approximate execution time is shown at the right in a row with classifier description. If you will obtain the following message \"Warning: Variables are collinear\", then never mind, because this Lab has not an aim to eliminate this warning."
   ]
  },
  {
   "cell_type": "code",
   "execution_count": 62,
   "id": "71619291-7c8a-4bda-adc7-43b4414074fa",
   "metadata": {},
   "outputs": [],
   "source": [
    "AUTOTUNE = os.cpu_count()\n",
    "Classifiers = {\n",
    "    \"Linear_Regressor\": linear_model.LogisticRegression(C = 10, solver = 'liblinear'),  ## duration is less than 1 min\n",
    "    # \"SVC\": svm.SVC(random_state = seed),  ## duration is about 10 min\n",
    "    # \"Linear_SVC\": svm.LinearSVC(max_iter = 10000, random_state = seed),  ## duration is about 4 min\n",
    "    \"Random_Forest\": ensemble.RandomForestClassifier(random_state = seed, n_jobs = AUTOTUNE),  ## duration is about 1-2 min\n",
    "    \"Ada_Boost\": ensemble.AdaBoostClassifier(tree.DecisionTreeClassifier(random_state = seed),\n",
    "                                             random_state = seed,\n",
    "                                             learning_rate = 0.1),  ## duration is about 2 min\n",
    "    # \"Gradient_Boost\": ensemble.GradientBoostingClassifier(random_state = seed),  ## duration is about 10 min\n",
    "    \"Ex_Tree_Classifier\": ensemble.ExtraTreesClassifier(random_state = seed, n_jobs = AUTOTUNE),  ## duration is about 1-2 min\n",
    "    # \"ML_PC\": neural_network.MLPClassifier(max_iter = 1000, random_state = seed),  ## duration is about 20 min\n",
    "    \"kNN\": neighbors.KNeighborsClassifier(n_jobs = AUTOTUNE),  ## duration is about 2-3 min\n",
    "#     \"QDA\": discriminant_analysis.QuadraticDiscriminantAnalysis(reg_param = np.finfo(float).eps),  ## duration is less than 1 min\n",
    "    \"Decision_Tree\": tree.DecisionTreeClassifier(random_state = seed)  ## duration is less than 1 min\n",
    "}"
   ]
  },
  {
   "cell_type": "code",
   "execution_count": 61,
   "id": "f57aa763-9dbc-47c2-970b-f9fa6eb5ba73",
   "metadata": {},
   "outputs": [
    {
     "name": "stdout",
     "output_type": "stream",
     "text": [
      "Elapsed time: 142.57 sec\n",
      "\n"
     ]
    }
   ],
   "source": [
    "start_time = time.time()\n",
    "kfold = StratifiedKFold(n_splits = 10)\n",
    "for name, classifier in Classifiers.items():\n",
    "    sk.estimators.plot_learning_curve(classifier, xtrain, ytrain,\n",
    "                                      cv = kfold,\n",
    "                                      title = name,\n",
    "                                      random_state = seed,\n",
    "                                      n_jobs = -1)\n",
    "print(\"Elapsed time:\", round(time.time() - start_time, 2), 'sec\\n')"
   ]
  },
  {
   "cell_type": "markdown",
   "id": "de28c9dc-3fcc-4281-8b5d-1f20e5f539d0",
   "metadata": {},
   "source": [
    "**Metrics calculation and choice better classifier**\n",
    "\n",
    "Let's teach our set of classifiers (which you selected earlier) wuth the help of fit method. After each fitting stage, we will calculate some metrics, which helps us to chose the best classifier for the further optimization. We will use the following metrics: train & test accuracy, log_loss, and numbers of correct and incorrect cases of a predict from our models (classifiers)."
   ]
  },
  {
   "cell_type": "code",
   "execution_count": 64,
   "id": "ad440b30-2c36-49a7-949e-6d2fba85fda9",
   "metadata": {},
   "outputs": [
    {
     "name": "stdout",
     "output_type": "stream",
     "text": [
      "=============================================\n",
      "****    Estimations    ****\n",
      "Test accuracy:  90.09%    Name: Linear_Regressor\n",
      "Train accuracy:  89.61%\n",
      "Log_loss:  0.2822\n",
      "Correct   points:  17999\n",
      "Incorrect points:  1980\n",
      "=============================================\n",
      "****    Estimations    ****\n",
      "Test accuracy:  74.67%    Name: Random_Forest\n",
      "Train accuracy:  99.98%\n",
      "Log_loss:  0.3296\n",
      "Correct   points:  14919\n",
      "Incorrect points:  5060\n",
      "=============================================\n",
      "****    Estimations    ****\n",
      "Test accuracy:  81.08%    Name: Ada_Boost\n",
      "Train accuracy:  99.98%\n",
      "Log_loss:  3.9102\n",
      "Correct   points:  16198\n",
      "Incorrect points:  3781\n",
      "=============================================\n",
      "****    Estimations    ****\n",
      "Test accuracy:  99.16%    Name: Ex_Tree_Classifier\n",
      "Train accuracy:  99.98%\n",
      "Log_loss:  0.0918\n",
      "Correct   points:  19811\n",
      "Incorrect points:  168\n",
      "=============================================\n",
      "****    Estimations    ****\n",
      "Test accuracy:  99.45%    Name: kNN\n",
      "Train accuracy:  99.56%\n",
      "Log_loss:  0.0968\n",
      "Correct   points:  19869\n",
      "Incorrect points:  110\n",
      "=============================================\n",
      "****    Estimations    ****\n",
      "Test accuracy:  73.72%    Name: Decision_Tree\n",
      "Train accuracy:  99.98%\n",
      "Log_loss:  9.4714\n",
      "Correct   points:  14729\n",
      "Incorrect points:  5250\n",
      "\n",
      "Elapsed time: 20.97 sec\n",
      "\n"
     ]
    }
   ],
   "source": [
    "from sklearn.metrics import log_loss\n",
    "import pandas as pd\n",
    "import time\n",
    "import matplotlib.pyplot as plt\n",
    "\n",
    "start_time = time.time()\n",
    "logging_cols = [\"Classifier\", \"Test accuracy\", \"Train accuracy\", \"Log_loss\", \"Correct_cases\", \"Incorrect_cases\"]\n",
    "logging = pd.DataFrame(columns=logging_cols)\n",
    "\n",
    "for name_c, classif_c in Classifiers.items():\n",
    "    classif_c.fit(xtrain, ytrain)\n",
    "    predict = classif_c.predict(xtest)\n",
    "    accuracy = classif_c.score(xtest, ytest)\n",
    "    train_pred = classif_c.predict_proba(xtest)\n",
    "    lg_ls = log_loss(ytest, train_pred)\n",
    "    train_test_acc = classif_c.score(xtrain, ytrain)\n",
    "    correct = (ytest == predict).sum()\n",
    "    incorrect = (ytest != predict).sum()\n",
    "    \n",
    "    print(\"=\" * 45)\n",
    "    print('****    Estimations    ****')\n",
    "    print(f\"Test accuracy:  {accuracy * 100:.2f}%    Name: {name_c}\")\n",
    "    print(f\"Train accuracy:  {train_test_acc * 100:.2f}%\")\n",
    "    print(f\"Log_loss:  {lg_ls:.4f}\")\n",
    "    print(f\"Correct   points:  {correct}\")\n",
    "    print(f\"Incorrect points:  {incorrect}\")\n",
    "    \n",
    "    # Replace this line with pd.concat\n",
    "    logging_entry = pd.DataFrame([[name_c, accuracy * 100, train_test_acc * 100, lg_ls, correct, incorrect]], columns=logging_cols)\n",
    "    logging = pd.concat([logging, logging_entry], ignore_index=True)\n",
    "\n",
    "print(\"\\nElapsed time:\", round(time.time() - start_time, 2), 'sec\\n')\n"
   ]
  },
  {
   "cell_type": "markdown",
   "id": "e664a9b0-8378-4972-bc1f-6fc184ca7c69",
   "metadata": {},
   "source": [
    "**Visualization of results**\n",
    "\n",
    "Let's visualize calculated metrics with the same classifiers that to get a chance to choose the best classifier. These visualizations can help us to understand classifiers achievements and compare them more clearly. We will do this for the accuracy metric."
   ]
  },
  {
   "cell_type": "code",
   "execution_count": 9,
   "id": "36aeef34-be2e-448f-8e4a-d6b6a8f1f778",
   "metadata": {},
   "outputs": [
    {
     "data": {
      "image/png": "[encoded data removed]",
      "text/plain": [
       "<Figure size 1500x500 with 1 Axes>"
      ]
     },
     "metadata": {},
     "output_type": "display_data"
    },
    {
     "data": {
      "image/png": "[encoded data removed]",
      "text/plain": [
       "<Figure size 1500x500 with 1 Axes>"
      ]
     },
     "metadata": {},
     "output_type": "display_data"
    },
    {
     "name": "stdout",
     "output_type": "stream",
     "text": [
      "Empty DataFrame\n",
      "Columns: [Classifier, Test accuracy, Train accuracy, Log_loss, Correct_cases, Incorrect_cases]\n",
      "Index: []\n"
     ]
    }
   ],
   "source": [
    "import seaborn as sns\n",
    "import matplotlib.pyplot as plt\n",
    "\n",
    "# Ensure this is initialized from your earlier code\n",
    "# Replace `logging` with `results_log`\n",
    "results_log_cols = [\"Classifier\", \"Test accuracy\", \"Train accuracy\", \"Log_loss\", \"Correct_cases\", \"Incorrect_cases\"]\n",
    "results_log = pd.DataFrame(columns=results_log_cols)\n",
    "\n",
    "# Visualization for Test Accuracy\n",
    "sns.set_color_codes(\"muted\")\n",
    "graph = sns.barplot(\n",
    "    x='Classifier',\n",
    "    y='Test accuracy',\n",
    "    data=results_log,  # Use the correct DataFrame here\n",
    "    palette='hls'\n",
    ")\n",
    "\n",
    "for p in graph.patches:\n",
    "    graph.annotate(format(p.get_height(), '.2f'),\n",
    "                   (p.get_x() + p.get_width() / 2., p.get_height()),\n",
    "                   ha='center', va='center',\n",
    "                   xytext=(0, -12), size=12,\n",
    "                   textcoords='offset points')\n",
    "\n",
    "plt.xlabel('\\nClassifier`s name')\n",
    "plt.title('Estimations (Test accuracy) of the classifiers')\n",
    "plt.show()\n",
    "\n",
    "# Visualization for Train Accuracy\n",
    "sns.set_color_codes(\"muted\")\n",
    "graph = sns.barplot(\n",
    "    x='Classifier',\n",
    "    y='Train accuracy',\n",
    "    data=results_log,  # Use the correct DataFrame here\n",
    "    palette='hls'\n",
    ")\n",
    "\n",
    "for p in graph.patches:\n",
    "    graph.annotate(format(p.get_height(), '.2f'),\n",
    "                   (p.get_x() + p.get_width() / 2., p.get_height()),\n",
    "                   ha='center', va='center',\n",
    "                   xytext=(0, -12), size=12,\n",
    "                   textcoords='offset points')\n",
    "\n",
    "plt.xlabel('\\nClassifier`s name')\n",
    "plt.title('Estimations (Train accuracy) of the classifiers')\n",
    "plt.show()\n",
    "\n",
    "print(results_log.head())\n"
   ]
  },
  {
   "cell_type": "code",
   "execution_count": 10,
   "id": "e6bd7cb1-0a92-4de8-8db2-809e58ebefb6",
   "metadata": {},
   "outputs": [
    {
     "name": "stdout",
     "output_type": "stream",
     "text": [
      "Empty DataFrame\n",
      "Columns: [Classifier, Test accuracy, Train accuracy, Log_loss, Correct_cases, Incorrect_cases]\n",
      "Index: []\n"
     ]
    }
   ],
   "source": [
    "print(results_log.head())\n"
   ]
  },
  {
   "cell_type": "code",
   "execution_count": 11,
   "id": "865fca64-a267-4df2-a88a-d61792533bb0",
   "metadata": {},
   "outputs": [
    {
     "data": {
      "image/png": "[encoded data removed]",
      "text/plain": [
       "<Figure size 1500x500 with 1 Axes>"
      ]
     },
     "metadata": {},
     "output_type": "display_data"
    },
    {
     "data": {
      "image/png": "[encoded data removed]",
      "text/plain": [
       "<Figure size 1500x500 with 1 Axes>"
      ]
     },
     "metadata": {},
     "output_type": "display_data"
    },
    {
     "data": {
      "image/png": "[encoded data removed]",
      "text/plain": [
       "<Figure size 1500x500 with 1 Axes>"
      ]
     },
     "metadata": {},
     "output_type": "display_data"
    }
   ],
   "source": [
    "sns.set_color_codes(\"muted\")\n",
    "\n",
    "# Plot for Log_loss\n",
    "graph = sns.barplot(x='Classifier',\n",
    "                    y='Log_loss',\n",
    "                    data=results_log,  # Use the correct DataFrame name\n",
    "                    palette='hls')\n",
    "\n",
    "for p in graph.patches:\n",
    "    graph.annotate(format(p.get_height(), '.2f'),\n",
    "                   (p.get_x() + p.get_width() / 2., p.get_height()),\n",
    "                   ha='center', va='center',\n",
    "                   xytext=(0, -12), size=12,\n",
    "                   textcoords='offset points')\n",
    "\n",
    "plt.xlabel('\\nClassifier`s name')\n",
    "plt.title('Estimations (Log_loss) of the classifiers')\n",
    "plt.show()\n",
    "\n",
    "# Plot for Correct_cases\n",
    "graph = sns.barplot(x='Classifier',\n",
    "                    y='Correct_cases',\n",
    "                    data=results_log,  # Use the correct DataFrame name\n",
    "                    palette='hls')\n",
    "\n",
    "for p in graph.patches:\n",
    "    graph.annotate(format(p.get_height(), '.2f'),\n",
    "                   (p.get_x() + p.get_width() / 2., p.get_height()),\n",
    "                   ha='center', va='center',\n",
    "                   xytext=(0, -12), size=12,\n",
    "                   textcoords='offset points')\n",
    "\n",
    "plt.xlabel('\\nClassifier`s name')\n",
    "plt.title('Estimations (Correct_cases) of the classifiers')\n",
    "plt.show()\n",
    "\n",
    "# Plot for Incorrect_cases\n",
    "graph = sns.barplot(x='Classifier',\n",
    "                    y='Incorrect_cases',\n",
    "                    data=results_log,  # Use the correct DataFrame name\n",
    "                    palette='hls')\n",
    "\n",
    "for p in graph.patches:\n",
    "    graph.annotate(format(p.get_height(), '.2f'),\n",
    "                   (p.get_x() + p.get_width() / 2., p.get_height()),\n",
    "                   ha='center', va='center',\n",
    "                   xytext=(0, -12), size=12,\n",
    "                   textcoords='offset points')\n",
    "\n",
    "plt.xlabel('\\nClassifier`s name')\n",
    "plt.title('Estimations (Incorrect_cases) of the classifiers')\n",
    "plt.show()\n"
   ]
  },
  {
   "cell_type": "code",
   "execution_count": null,
   "id": "d3733852-5bd6-4565-a163-49868f043555",
   "metadata": {},
   "outputs": [],
   "source": []
  }
 ],
 "metadata": {
  "kernelspec": {
   "display_name": "Python 3 (ipykernel)",
   "language": "python",
   "name": "python3"
  },
  "language_info": {
   "codemirror_mode": {
    "name": "ipython",
    "version": 3
   },
   "file_extension": ".py",
   "mimetype": "text/x-python",
   "name": "python",
   "nbconvert_exporter": "python",
   "pygments_lexer": "ipython3",
   "version": "3.12.7"
  }
 },
 "nbformat": 4,
 "nbformat_minor": 5
}
